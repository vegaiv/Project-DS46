{
  "metadata": {
    "kernelspec": {
      "language": "python",
      "display_name": "Python 3",
      "name": "python3"
    },
    "language_info": {
      "name": "python",
      "version": "3.11.11",
      "mimetype": "text/x-python",
      "codemirror_mode": {
        "name": "ipython",
        "version": 3
      },
      "pygments_lexer": "ipython3",
      "nbconvert_exporter": "python",
      "file_extension": ".py"
    },
    "kaggle": {
      "accelerator": "none",
      "dataSources": [
        {
          "sourceId": 11604520,
          "sourceType": "datasetVersion",
          "datasetId": 7278464
        }
      ],
      "dockerImageVersionId": 31040,
      "isInternetEnabled": true,
      "language": "python",
      "sourceType": "notebook",
      "isGpuEnabled": false
    },
    "colab": {
      "name": "Fake News Prediction via NLP and LSTM",
      "provenance": []
    }
  },
  "nbformat_minor": 0,
  "nbformat": 4,
  "cells": [
    {
      "source": [
        "# IMPORTANT: RUN THIS CELL IN ORDER TO IMPORT YOUR KAGGLE DATA SOURCES,\n",
        "# THEN FEEL FREE TO DELETE THIS CELL.\n",
        "# NOTE: THIS NOTEBOOK ENVIRONMENT DIFFERS FROM KAGGLE'S PYTHON\n",
        "# ENVIRONMENT SO THERE MAY BE MISSING LIBRARIES USED BY YOUR\n",
        "# NOTEBOOK.\n",
        "import kagglehub\n",
        "razanaqvi14_real_and_fake_news_path = kagglehub.dataset_download('razanaqvi14/real-and-fake-news')\n",
        "\n",
        "print('Data source import complete.')\n"
      ],
      "metadata": {
        "id": "g07zJGI6eZ1Q"
      },
      "cell_type": "code",
      "outputs": [],
      "execution_count": null
    },
    {
      "cell_type": "markdown",
      "source": [
        "---\n",
        "\n",
        "##  **Dataset Overview: Fake and Real News Dataset**\n",
        "\n",
        "###  **Description:**\n",
        "\n",
        "This dataset consists of two separate CSV files containing news articles:\n",
        "\n",
        "* `True.csv`: Real and factual news stories\n",
        "* `Fake.csv`: Fabricated or misleading news stories\n",
        "\n",
        "Each file contains news entries with metadata and full article content.\n",
        "The goal is to build a machine learning or deep learning model that can distinguish between **real** and **fake** news.\n",
        "\n",
        "---\n",
        "\n",
        "##  **Dataset Structure After Merge:**\n",
        "\n",
        "After preprocessing and merging, the final dataset has **two main columns**:\n",
        "\n",
        "| Column Name | Type   | Description                                         |\n",
        "| ----------- | ------ | --------------------------------------------------- |\n",
        "| `content`   | string | Combination of `title` and `text` (full news text)  |\n",
        "| `label`     | int    | Target label — `1` for real news, `0` for fake news |\n",
        "\n",
        "---\n",
        "\n",
        "##  **Original Columns (Before Merging):**\n",
        "\n",
        "| Column Name | Type   | Description                                                                    |\n",
        "| ----------- | ------ | ------------------------------------------------------------------------------ |\n",
        "| `title`     | string | The headline of the article                                                    |\n",
        "| `text`      | string | The body/content of the news article                                           |\n",
        "| `subject`   | string | *(Only in some versions)* Indicates the topic category (e.g., politics, world) |\n",
        "| `date`      | string | The date when the article was published                                        |\n",
        "\n",
        "---"
      ],
      "metadata": {
        "id": "xDZUBRExeZ1S"
      }
    },
    {
      "cell_type": "markdown",
      "source": [
        "#  Required Libraries"
      ],
      "metadata": {
        "id": "nkNKbJzueZ1T"
      }
    },
    {
      "cell_type": "code",
      "source": [
        "# This Python 3 environment comes with many helpful analytics libraries installed\n",
        "# It is defined by the kaggle/python Docker image: https://github.com/kaggle/docker-python\n",
        "# For example, here's several helpful packages to load\n",
        "\n",
        "import numpy as np # linear algebra\n",
        "import pandas as pd # data processing, CSV file I/O (e.g. pd.read_csv)\n",
        "import string\n",
        "import nltk\n",
        "from nltk.corpus import stopwords\n",
        "from nltk.stem import WordNetLemmatizer\n",
        "from wordcloud import WordCloud\n",
        "import matplotlib.pyplot as plt\n",
        "import seaborn as sns\n",
        "from sklearn.feature_extraction.text import TfidfVectorizer\n",
        "from sklearn.model_selection import train_test_split\n",
        "from sklearn.linear_model import LogisticRegression\n",
        "from sklearn.naive_bayes import MultinomialNB\n",
        "from sklearn.ensemble import RandomForestClassifier\n",
        "from sklearn.svm import LinearSVC\n",
        "from sklearn.metrics import classification_report, confusion_matrix, accuracy_score, roc_curve, auc\n",
        "from tensorflow.keras.preprocessing.text import Tokenizer\n",
        "from tensorflow.keras.preprocessing.sequence import pad_sequences\n",
        "from tensorflow.keras.models import Sequential\n",
        "from tensorflow.keras.layers import Embedding, LSTM, Dense, Dropout, Bidirectional\n",
        "# Input data files are available in the read-only \"../input/\" directory\n",
        "# For example, running this (by clicking run or pressing Shift+Enter) will list all files under the input directory\n",
        "import warnings\n",
        "warnings.filterwarnings(\"ignore\")\n",
        "import os\n",
        "os.environ[\"CUDA_VISIBLE_DEVICES\"] = \"-1\"\n",
        "for dirname, _, filenames in os.walk('/kaggle/input'):\n",
        "    for filename in filenames:\n",
        "        print(os.path.join(dirname, filename))\n",
        "\n",
        "# You can write up to 20GB to the current directory (/kaggle/working/) that gets preserved as output when you create a version using \"Save & Run All\"\n",
        "# You can also write temporary files to /kaggle/temp/, but they won't be saved outside of the current session"
      ],
      "metadata": {
        "_uuid": "8f2839f25d086af736a60e9eeb907d3b93b6e0e5",
        "_cell_guid": "b1076dfc-b9ad-4769-8c92-a6c4dae69d19",
        "trusted": true,
        "execution": {
          "iopub.status.busy": "2025-05-27T10:18:33.428041Z",
          "iopub.execute_input": "2025-05-27T10:18:33.428326Z",
          "iopub.status.idle": "2025-05-27T10:18:39.418645Z",
          "shell.execute_reply.started": "2025-05-27T10:18:33.428297Z",
          "shell.execute_reply": "2025-05-27T10:18:39.417597Z"
        },
        "id": "BeLFOuQheZ1U"
      },
      "outputs": [],
      "execution_count": null
    },
    {
      "cell_type": "markdown",
      "source": [
        "# Data Preparation"
      ],
      "metadata": {
        "id": "FiVZf0nLeZ1U"
      }
    },
    {
      "cell_type": "markdown",
      "source": [
        "## Load and Combine the Datasets"
      ],
      "metadata": {
        "id": "7gnpZjDfeZ1V"
      }
    },
    {
      "cell_type": "markdown",
      "source": [
        "### Load Datasets"
      ],
      "metadata": {
        "id": "Zt2w7c66eZ1V"
      }
    },
    {
      "cell_type": "code",
      "source": [
        "true_df = pd.read_csv(\"/kaggle/input/real-and-fake-news/True.csv\")\n",
        "fake_df = pd.read_csv(\"/kaggle/input/real-and-fake-news/Fake.csv\")"
      ],
      "metadata": {
        "trusted": true,
        "execution": {
          "iopub.status.busy": "2025-05-27T10:18:39.421041Z",
          "iopub.execute_input": "2025-05-27T10:18:39.421668Z",
          "iopub.status.idle": "2025-05-27T10:18:41.145721Z",
          "shell.execute_reply.started": "2025-05-27T10:18:39.421638Z",
          "shell.execute_reply": "2025-05-27T10:18:41.144259Z"
        },
        "id": "gHoPH2z1eZ1V"
      },
      "outputs": [],
      "execution_count": null
    },
    {
      "cell_type": "markdown",
      "source": [
        "### Add Labels"
      ],
      "metadata": {
        "id": "iPhRKRPweZ1V"
      }
    },
    {
      "cell_type": "code",
      "source": [
        "true_df[\"label\"] = 1  # Real news\n",
        "fake_df[\"label\"] = 0  # Fake news"
      ],
      "metadata": {
        "trusted": true,
        "execution": {
          "iopub.status.busy": "2025-05-27T10:18:41.146851Z",
          "iopub.execute_input": "2025-05-27T10:18:41.147158Z",
          "iopub.status.idle": "2025-05-27T10:18:41.155327Z",
          "shell.execute_reply.started": "2025-05-27T10:18:41.147126Z",
          "shell.execute_reply": "2025-05-27T10:18:41.154237Z"
        },
        "id": "qAvGkQYXeZ1W"
      },
      "outputs": [],
      "execution_count": null
    },
    {
      "cell_type": "markdown",
      "source": [
        "### Combine Datasets"
      ],
      "metadata": {
        "id": "cf5DAlCseZ1W"
      }
    },
    {
      "cell_type": "code",
      "source": [
        "df = pd.concat([true_df, fake_df], ignore_index=True)"
      ],
      "metadata": {
        "trusted": true,
        "execution": {
          "iopub.status.busy": "2025-05-27T10:18:41.156883Z",
          "iopub.execute_input": "2025-05-27T10:18:41.157249Z",
          "iopub.status.idle": "2025-05-27T10:18:41.186245Z",
          "shell.execute_reply.started": "2025-05-27T10:18:41.157214Z",
          "shell.execute_reply": "2025-05-27T10:18:41.185118Z"
        },
        "id": "6nqqvYQeeZ1W"
      },
      "outputs": [],
      "execution_count": null
    },
    {
      "cell_type": "markdown",
      "source": [
        "### Check the Structure"
      ],
      "metadata": {
        "id": "wS3jwTmBeZ1W"
      }
    },
    {
      "cell_type": "code",
      "source": [
        "print(\"Shape:\", df.shape)"
      ],
      "metadata": {
        "trusted": true,
        "execution": {
          "iopub.status.busy": "2025-05-27T10:18:41.187335Z",
          "iopub.execute_input": "2025-05-27T10:18:41.187956Z",
          "iopub.status.idle": "2025-05-27T10:18:41.196227Z",
          "shell.execute_reply.started": "2025-05-27T10:18:41.187915Z",
          "shell.execute_reply": "2025-05-27T10:18:41.195101Z"
        },
        "id": "dwVzXcwfeZ1W"
      },
      "outputs": [],
      "execution_count": null
    },
    {
      "cell_type": "code",
      "source": [
        "print(\"Columns:\", df.columns)"
      ],
      "metadata": {
        "trusted": true,
        "execution": {
          "iopub.status.busy": "2025-05-27T10:18:41.19729Z",
          "iopub.execute_input": "2025-05-27T10:18:41.197667Z",
          "iopub.status.idle": "2025-05-27T10:18:41.218232Z",
          "shell.execute_reply.started": "2025-05-27T10:18:41.197636Z",
          "shell.execute_reply": "2025-05-27T10:18:41.217185Z"
        },
        "id": "W4ZDJFTceZ1X"
      },
      "outputs": [],
      "execution_count": null
    },
    {
      "cell_type": "code",
      "source": [
        "print(df[\"label\"].value_counts())"
      ],
      "metadata": {
        "trusted": true,
        "execution": {
          "iopub.status.busy": "2025-05-27T10:18:41.219286Z",
          "iopub.execute_input": "2025-05-27T10:18:41.219616Z",
          "iopub.status.idle": "2025-05-27T10:18:41.242186Z",
          "shell.execute_reply.started": "2025-05-27T10:18:41.219589Z",
          "shell.execute_reply": "2025-05-27T10:18:41.241179Z"
        },
        "id": "grHuR1kWeZ1X"
      },
      "outputs": [],
      "execution_count": null
    },
    {
      "cell_type": "markdown",
      "source": [
        "## Drop Unnecessary Columns and Preprocess"
      ],
      "metadata": {
        "id": "vYC6m42OeZ1X"
      }
    },
    {
      "cell_type": "markdown",
      "source": [
        "### Drop 'date' and keep 'title' + 'text'"
      ],
      "metadata": {
        "id": "9_7B-OGWeZ1X"
      }
    },
    {
      "cell_type": "code",
      "source": [
        "df = df[[\"title\", \"text\", \"label\"]]"
      ],
      "metadata": {
        "trusted": true,
        "execution": {
          "iopub.status.busy": "2025-05-27T10:18:41.24585Z",
          "iopub.execute_input": "2025-05-27T10:18:41.246187Z",
          "iopub.status.idle": "2025-05-27T10:18:41.272443Z",
          "shell.execute_reply.started": "2025-05-27T10:18:41.246159Z",
          "shell.execute_reply": "2025-05-27T10:18:41.270885Z"
        },
        "id": "adA004pdeZ1X"
      },
      "outputs": [],
      "execution_count": null
    },
    {
      "cell_type": "markdown",
      "source": [
        "### Create a new column 'content' combining title and text"
      ],
      "metadata": {
        "id": "H5g9blCEeZ1X"
      }
    },
    {
      "cell_type": "code",
      "source": [
        "df[\"content\"] = df[\"title\"] + \" \" + df[\"text\"]"
      ],
      "metadata": {
        "trusted": true,
        "execution": {
          "iopub.status.busy": "2025-05-27T10:18:41.274384Z",
          "iopub.execute_input": "2025-05-27T10:18:41.274963Z",
          "iopub.status.idle": "2025-05-27T10:18:41.511599Z",
          "shell.execute_reply.started": "2025-05-27T10:18:41.274922Z",
          "shell.execute_reply": "2025-05-27T10:18:41.510286Z"
        },
        "id": "VBW7IbiueZ1X"
      },
      "outputs": [],
      "execution_count": null
    },
    {
      "cell_type": "markdown",
      "source": [
        "### Drop rows with null values"
      ],
      "metadata": {
        "id": "fIdIhPFKeZ1Y"
      }
    },
    {
      "cell_type": "code",
      "source": [
        "df.dropna(inplace=True)"
      ],
      "metadata": {
        "trusted": true,
        "execution": {
          "iopub.status.busy": "2025-05-27T10:18:41.512763Z",
          "iopub.execute_input": "2025-05-27T10:18:41.513028Z",
          "iopub.status.idle": "2025-05-27T10:18:41.56431Z",
          "shell.execute_reply.started": "2025-05-27T10:18:41.513009Z",
          "shell.execute_reply": "2025-05-27T10:18:41.563169Z"
        },
        "id": "L2YBucr_eZ1Y"
      },
      "outputs": [],
      "execution_count": null
    },
    {
      "cell_type": "markdown",
      "source": [
        "### Shuffle the dataset"
      ],
      "metadata": {
        "id": "3-q8Me5seZ1Y"
      }
    },
    {
      "cell_type": "code",
      "source": [
        "df = df.sample(frac=1, random_state=537).reset_index(drop=True)"
      ],
      "metadata": {
        "trusted": true,
        "execution": {
          "iopub.status.busy": "2025-05-27T10:18:41.565416Z",
          "iopub.execute_input": "2025-05-27T10:18:41.565799Z",
          "iopub.status.idle": "2025-05-27T10:18:41.599023Z",
          "shell.execute_reply.started": "2025-05-27T10:18:41.565763Z",
          "shell.execute_reply": "2025-05-27T10:18:41.59793Z"
        },
        "id": "Vti4ChV9eZ1Y"
      },
      "outputs": [],
      "execution_count": null
    },
    {
      "cell_type": "markdown",
      "source": [
        "### Final Columns"
      ],
      "metadata": {
        "id": "JTkQB6QQeZ1Y"
      }
    },
    {
      "cell_type": "code",
      "source": [
        "df = df[[\"content\", \"label\"]]"
      ],
      "metadata": {
        "trusted": true,
        "execution": {
          "iopub.status.busy": "2025-05-27T10:18:41.600503Z",
          "iopub.execute_input": "2025-05-27T10:18:41.600967Z",
          "iopub.status.idle": "2025-05-27T10:18:41.614468Z",
          "shell.execute_reply.started": "2025-05-27T10:18:41.600934Z",
          "shell.execute_reply": "2025-05-27T10:18:41.613394Z"
        },
        "id": "Wvs_dXtFeZ1Y"
      },
      "outputs": [],
      "execution_count": null
    },
    {
      "cell_type": "markdown",
      "source": [
        "### Preview"
      ],
      "metadata": {
        "id": "QbvtwhYneZ1Y"
      }
    },
    {
      "cell_type": "code",
      "source": [
        "df.head()"
      ],
      "metadata": {
        "trusted": true,
        "execution": {
          "iopub.status.busy": "2025-05-27T10:18:41.616077Z",
          "iopub.execute_input": "2025-05-27T10:18:41.616434Z",
          "iopub.status.idle": "2025-05-27T10:18:41.641484Z",
          "shell.execute_reply.started": "2025-05-27T10:18:41.616408Z",
          "shell.execute_reply": "2025-05-27T10:18:41.640315Z"
        },
        "id": "sP7tGCxDeZ1Z"
      },
      "outputs": [],
      "execution_count": null
    },
    {
      "cell_type": "code",
      "source": [
        "df.info()"
      ],
      "metadata": {
        "trusted": true,
        "execution": {
          "iopub.status.busy": "2025-05-27T10:18:41.642557Z",
          "iopub.execute_input": "2025-05-27T10:18:41.642847Z",
          "iopub.status.idle": "2025-05-27T10:18:41.673221Z",
          "shell.execute_reply.started": "2025-05-27T10:18:41.642823Z",
          "shell.execute_reply": "2025-05-27T10:18:41.672074Z"
        },
        "id": "Bk4T93rleZ1Z"
      },
      "outputs": [],
      "execution_count": null
    },
    {
      "cell_type": "code",
      "source": [
        "df.isnull().sum()"
      ],
      "metadata": {
        "trusted": true,
        "execution": {
          "iopub.status.busy": "2025-05-27T10:18:41.674359Z",
          "iopub.execute_input": "2025-05-27T10:18:41.674894Z",
          "iopub.status.idle": "2025-05-27T10:18:41.7071Z",
          "shell.execute_reply.started": "2025-05-27T10:18:41.674859Z",
          "shell.execute_reply": "2025-05-27T10:18:41.706071Z"
        },
        "id": "grWF1otaeZ1Z"
      },
      "outputs": [],
      "execution_count": null
    },
    {
      "cell_type": "markdown",
      "source": [
        "# Text Cleaning & EDA"
      ],
      "metadata": {
        "id": "R-F-WqGMeZ1Z"
      }
    },
    {
      "cell_type": "markdown",
      "source": [
        "## Text Cleaning"
      ],
      "metadata": {
        "id": "0OpGLr6seZ1Z"
      }
    },
    {
      "cell_type": "markdown",
      "source": [
        "### Text Cleaning Function"
      ],
      "metadata": {
        "id": "ABt2zV4jeZ1Z"
      }
    },
    {
      "cell_type": "code",
      "source": [
        "stop_words = set(stopwords.words(\"english\"))\n",
        "lemmatizer = WordNetLemmatizer()\n",
        "\n",
        "def clean_text(text):\n",
        "    # Lowercase\n",
        "    text = text.lower()\n",
        "    # Remove punctuation\n",
        "    text = text.translate(str.maketrans('', '', string.punctuation))\n",
        "    # Tokenize\n",
        "    words = nltk.word_tokenize(text)\n",
        "    # Remove stopwords and lemmatize\n",
        "    words = [lemmatizer.lemmatize(word) for word in words if word not in stop_words and word.isalpha()]\n",
        "    return \" \".join(words)\n"
      ],
      "metadata": {
        "trusted": true,
        "execution": {
          "iopub.status.busy": "2025-05-27T10:18:41.708068Z",
          "iopub.execute_input": "2025-05-27T10:18:41.70836Z",
          "iopub.status.idle": "2025-05-27T10:18:41.727425Z",
          "shell.execute_reply.started": "2025-05-27T10:18:41.708337Z",
          "shell.execute_reply": "2025-05-27T10:18:41.726585Z"
        },
        "id": "z3ZZIncZeZ1a"
      },
      "outputs": [],
      "execution_count": null
    },
    {
      "cell_type": "markdown",
      "source": [
        "### Apply cleaning"
      ],
      "metadata": {
        "id": "PoCSYNQmeZ1a"
      }
    },
    {
      "cell_type": "code",
      "source": [
        "df[\"clean_text\"] = df[\"content\"].apply(clean_text)"
      ],
      "metadata": {
        "trusted": true,
        "execution": {
          "iopub.status.busy": "2025-05-27T10:18:41.728568Z",
          "iopub.execute_input": "2025-05-27T10:18:41.72887Z",
          "iopub.status.idle": "2025-05-27T10:20:47.576944Z",
          "shell.execute_reply.started": "2025-05-27T10:18:41.728849Z",
          "shell.execute_reply": "2025-05-27T10:20:47.575915Z"
        },
        "id": "c3dBfPOkeZ1a"
      },
      "outputs": [],
      "execution_count": null
    },
    {
      "cell_type": "markdown",
      "source": [
        "### Show sample"
      ],
      "metadata": {
        "id": "pgRPOh67eZ1a"
      }
    },
    {
      "cell_type": "code",
      "source": [
        "df[[\"content\", \"clean_text\", \"label\"]].head(2)"
      ],
      "metadata": {
        "trusted": true,
        "execution": {
          "iopub.status.busy": "2025-05-27T10:20:47.578132Z",
          "iopub.execute_input": "2025-05-27T10:20:47.578447Z",
          "iopub.status.idle": "2025-05-27T10:20:47.602939Z",
          "shell.execute_reply.started": "2025-05-27T10:20:47.578417Z",
          "shell.execute_reply": "2025-05-27T10:20:47.60203Z"
        },
        "id": "YvRob02reZ1a"
      },
      "outputs": [],
      "execution_count": null
    },
    {
      "cell_type": "markdown",
      "source": [
        "## WordCloud: Real vs Fake News"
      ],
      "metadata": {
        "id": "Q6h--GNReZ1k"
      }
    },
    {
      "cell_type": "markdown",
      "source": [
        "### Split by label"
      ],
      "metadata": {
        "id": "WDTSJ5jgeZ1k"
      }
    },
    {
      "cell_type": "code",
      "source": [
        "real_text = \" \".join(df[df[\"label\"] == 1][\"clean_text\"])\n",
        "fake_text = \" \".join(df[df[\"label\"] == 0][\"clean_text\"])"
      ],
      "metadata": {
        "trusted": true,
        "execution": {
          "iopub.status.busy": "2025-05-27T10:20:47.603993Z",
          "iopub.execute_input": "2025-05-27T10:20:47.604282Z",
          "iopub.status.idle": "2025-05-27T10:20:47.792236Z",
          "shell.execute_reply.started": "2025-05-27T10:20:47.604258Z",
          "shell.execute_reply": "2025-05-27T10:20:47.790701Z"
        },
        "id": "lHXeTGLieZ1k"
      },
      "outputs": [],
      "execution_count": null
    },
    {
      "cell_type": "markdown",
      "source": [
        "### WordCloud for Real News"
      ],
      "metadata": {
        "id": "mFhOYWWGeZ1k"
      }
    },
    {
      "cell_type": "code",
      "source": [
        "plt.figure(figsize=(12,6))\n",
        "plt.title(\"WordCloud - Real News\", fontsize=16)\n",
        "plt.imshow(WordCloud(width=800, height=400, background_color=\"white\").generate(real_text))\n",
        "plt.axis(\"off\")\n",
        "plt.show()"
      ],
      "metadata": {
        "trusted": true,
        "execution": {
          "iopub.status.busy": "2025-05-27T10:20:47.794218Z",
          "iopub.execute_input": "2025-05-27T10:20:47.795112Z",
          "iopub.status.idle": "2025-05-27T10:21:18.19104Z",
          "shell.execute_reply.started": "2025-05-27T10:20:47.795075Z",
          "shell.execute_reply": "2025-05-27T10:21:18.190115Z"
        },
        "id": "z1ybI4MBeZ1l"
      },
      "outputs": [],
      "execution_count": null
    },
    {
      "cell_type": "markdown",
      "source": [
        "### WordCloud for Fake News"
      ],
      "metadata": {
        "id": "EMNfrk8jeZ1l"
      }
    },
    {
      "cell_type": "code",
      "source": [
        "plt.figure(figsize=(12,6))\n",
        "plt.title(\"WordCloud - Fake News\", fontsize=16)\n",
        "plt.imshow(WordCloud(width=800, height=400, background_color=\"white\").generate(fake_text))\n",
        "plt.axis(\"off\")\n",
        "plt.show()"
      ],
      "metadata": {
        "trusted": true,
        "execution": {
          "iopub.status.busy": "2025-05-27T10:21:18.192379Z",
          "iopub.execute_input": "2025-05-27T10:21:18.192782Z",
          "iopub.status.idle": "2025-05-27T10:21:52.217391Z",
          "shell.execute_reply.started": "2025-05-27T10:21:18.192749Z",
          "shell.execute_reply": "2025-05-27T10:21:52.216208Z"
        },
        "id": "lfs_jp4MeZ1l"
      },
      "outputs": [],
      "execution_count": null
    },
    {
      "cell_type": "markdown",
      "source": [
        "## Distribution of News Length"
      ],
      "metadata": {
        "id": "hziUoaqHeZ1l"
      }
    },
    {
      "cell_type": "markdown",
      "source": [
        "### Add length column"
      ],
      "metadata": {
        "id": "WcigpbDXeZ1l"
      }
    },
    {
      "cell_type": "code",
      "source": [
        "df[\"text_length\"] = df[\"clean_text\"].apply(lambda x: len(x.split()))"
      ],
      "metadata": {
        "trusted": true,
        "execution": {
          "iopub.status.busy": "2025-05-27T10:21:52.218727Z",
          "iopub.execute_input": "2025-05-27T10:21:52.219162Z",
          "iopub.status.idle": "2025-05-27T10:21:52.937618Z",
          "shell.execute_reply.started": "2025-05-27T10:21:52.21913Z",
          "shell.execute_reply": "2025-05-27T10:21:52.936601Z"
        },
        "id": "IrSDB4fHeZ1l"
      },
      "outputs": [],
      "execution_count": null
    },
    {
      "cell_type": "markdown",
      "source": [
        "### Plot distributions"
      ],
      "metadata": {
        "id": "4lph9UI_eZ1l"
      }
    },
    {
      "cell_type": "code",
      "source": [
        "plt.figure(figsize=(10,6))\n",
        "sns.histplot(data=df, x=\"text_length\", hue=\"label\", bins=50, kde=True, palette=\"Set1\")\n",
        "plt.title(\"Distribution of News Length (Real vs Fake)\", fontsize=14)\n",
        "plt.xlabel(\"Number of Words\")\n",
        "plt.ylabel(\"Frequency\")\n",
        "plt.legend([\"Fake\", \"Real\"])\n",
        "plt.show()"
      ],
      "metadata": {
        "trusted": true,
        "execution": {
          "iopub.status.busy": "2025-05-27T10:21:52.938664Z",
          "iopub.execute_input": "2025-05-27T10:21:52.93892Z",
          "iopub.status.idle": "2025-05-27T10:21:53.68742Z",
          "shell.execute_reply.started": "2025-05-27T10:21:52.938902Z",
          "shell.execute_reply": "2025-05-27T10:21:53.686362Z"
        },
        "id": "ZnBBg-VAeZ1l"
      },
      "outputs": [],
      "execution_count": null
    },
    {
      "cell_type": "markdown",
      "source": [
        "# Feature Extraction"
      ],
      "metadata": {
        "id": "VeBqZ3wHeZ1m"
      }
    },
    {
      "cell_type": "markdown",
      "source": [
        "## TF-IDF Vectorization"
      ],
      "metadata": {
        "id": "VsCEh7E0eZ1m"
      }
    },
    {
      "cell_type": "markdown",
      "source": [
        "### TF-IDF Vectorizer"
      ],
      "metadata": {
        "id": "KWoPnKPfeZ1m"
      }
    },
    {
      "cell_type": "code",
      "source": [
        "tfidf = TfidfVectorizer(max_features=5000, ngram_range=(1,2))"
      ],
      "metadata": {
        "trusted": true,
        "execution": {
          "iopub.status.busy": "2025-05-27T10:21:53.688637Z",
          "iopub.execute_input": "2025-05-27T10:21:53.688918Z",
          "iopub.status.idle": "2025-05-27T10:21:53.693916Z",
          "shell.execute_reply.started": "2025-05-27T10:21:53.688896Z",
          "shell.execute_reply": "2025-05-27T10:21:53.69282Z"
        },
        "id": "DPOUyId-eZ1m"
      },
      "outputs": [],
      "execution_count": null
    },
    {
      "cell_type": "markdown",
      "source": [
        "### Fit-transform the clean text"
      ],
      "metadata": {
        "id": "5VPz1oVEeZ1m"
      }
    },
    {
      "cell_type": "code",
      "source": [
        "X = tfidf.fit_transform(df[\"clean_text\"])"
      ],
      "metadata": {
        "trusted": true,
        "execution": {
          "iopub.status.busy": "2025-05-27T10:21:53.694943Z",
          "iopub.execute_input": "2025-05-27T10:21:53.69518Z",
          "iopub.status.idle": "2025-05-27T10:22:43.521324Z",
          "shell.execute_reply.started": "2025-05-27T10:21:53.695162Z",
          "shell.execute_reply": "2025-05-27T10:22:43.52032Z"
        },
        "id": "of4iWWeHeZ1m"
      },
      "outputs": [],
      "execution_count": null
    },
    {
      "cell_type": "markdown",
      "source": [
        "### Target variable"
      ],
      "metadata": {
        "id": "6rFs4i4peZ1n"
      }
    },
    {
      "cell_type": "code",
      "source": [
        "y = df[\"label\"]"
      ],
      "metadata": {
        "trusted": true,
        "execution": {
          "iopub.status.busy": "2025-05-27T10:22:43.526862Z",
          "iopub.execute_input": "2025-05-27T10:22:43.52718Z",
          "iopub.status.idle": "2025-05-27T10:22:43.532103Z",
          "shell.execute_reply.started": "2025-05-27T10:22:43.527157Z",
          "shell.execute_reply": "2025-05-27T10:22:43.530849Z"
        },
        "id": "Z74fWfIdeZ1n"
      },
      "outputs": [],
      "execution_count": null
    },
    {
      "cell_type": "code",
      "source": [
        "print(\"TF-IDF shape:\", X.shape)"
      ],
      "metadata": {
        "trusted": true,
        "execution": {
          "iopub.status.busy": "2025-05-27T10:22:43.533182Z",
          "iopub.execute_input": "2025-05-27T10:22:43.533506Z",
          "iopub.status.idle": "2025-05-27T10:22:43.558661Z",
          "shell.execute_reply.started": "2025-05-27T10:22:43.533481Z",
          "shell.execute_reply": "2025-05-27T10:22:43.55755Z"
        },
        "id": "5eEvXpvDeZ1n"
      },
      "outputs": [],
      "execution_count": null
    },
    {
      "cell_type": "markdown",
      "source": [
        "## Train/Test Split"
      ],
      "metadata": {
        "id": "E-Gb9qKLeZ1n"
      }
    },
    {
      "cell_type": "markdown",
      "source": [
        "### Split the dataset (80% train, 20% test)"
      ],
      "metadata": {
        "id": "OUljIcateZ1n"
      }
    },
    {
      "cell_type": "code",
      "source": [
        "X_train, X_test, y_train, y_test = train_test_split(X, y, test_size=0.2, random_state=537)\n",
        "\n",
        "print(\"Train size:\", X_train.shape)\n",
        "print(\"Test size:\", X_test.shape)"
      ],
      "metadata": {
        "trusted": true,
        "execution": {
          "iopub.status.busy": "2025-05-27T10:22:43.55987Z",
          "iopub.execute_input": "2025-05-27T10:22:43.560187Z",
          "iopub.status.idle": "2025-05-27T10:22:43.627695Z",
          "shell.execute_reply.started": "2025-05-27T10:22:43.560165Z",
          "shell.execute_reply": "2025-05-27T10:22:43.626582Z"
        },
        "id": "I4QSfSyYeZ1n"
      },
      "outputs": [],
      "execution_count": null
    },
    {
      "cell_type": "markdown",
      "source": [
        "# ML Model Training & Evaluation"
      ],
      "metadata": {
        "id": "YH-5fsHaeZ1n"
      }
    },
    {
      "cell_type": "markdown",
      "source": [
        "## Model Initialization"
      ],
      "metadata": {
        "id": "AdOLxdDQeZ1n"
      }
    },
    {
      "cell_type": "markdown",
      "source": [
        "### Dictionary of ML models"
      ],
      "metadata": {
        "id": "mu7rZenEeZ1o"
      }
    },
    {
      "cell_type": "code",
      "source": [
        "models = {\n",
        "    \"Logistic Regression\": LogisticRegression(max_iter=1000),\n",
        "    \"Naive Bayes\": MultinomialNB(),\n",
        "    \"Random Forest\": RandomForestClassifier(n_estimators=100, random_state=42),\n",
        "    \"SVM\": LinearSVC()\n",
        "}"
      ],
      "metadata": {
        "trusted": true,
        "execution": {
          "iopub.status.busy": "2025-05-27T10:22:43.628875Z",
          "iopub.execute_input": "2025-05-27T10:22:43.62921Z",
          "iopub.status.idle": "2025-05-27T10:22:43.636307Z",
          "shell.execute_reply.started": "2025-05-27T10:22:43.629182Z",
          "shell.execute_reply": "2025-05-27T10:22:43.634988Z"
        },
        "id": "xvDVXEYveZ1o"
      },
      "outputs": [],
      "execution_count": null
    },
    {
      "cell_type": "markdown",
      "source": [
        "## Model Training, Prediction, Evaluation"
      ],
      "metadata": {
        "id": "VHQ31nKGeZ1o"
      }
    },
    {
      "cell_type": "markdown",
      "source": [
        "### List to store results"
      ],
      "metadata": {
        "id": "4qinzatXeZ1o"
      }
    },
    {
      "cell_type": "code",
      "source": [
        "results = []"
      ],
      "metadata": {
        "trusted": true,
        "execution": {
          "iopub.status.busy": "2025-05-27T10:22:43.637382Z",
          "iopub.execute_input": "2025-05-27T10:22:43.637685Z",
          "iopub.status.idle": "2025-05-27T10:22:43.656725Z",
          "shell.execute_reply.started": "2025-05-27T10:22:43.637662Z",
          "shell.execute_reply": "2025-05-27T10:22:43.655314Z"
        },
        "id": "bLnpMEkneZ1o"
      },
      "outputs": [],
      "execution_count": null
    },
    {
      "cell_type": "markdown",
      "source": [
        "### Loop through each model"
      ],
      "metadata": {
        "id": "9kSH7CZSeZ1o"
      }
    },
    {
      "cell_type": "code",
      "source": [
        "for name, model in models.items():\n",
        "    print(f\"Training model: {name}\")\n",
        "\n",
        "    # Train the model\n",
        "    model.fit(X_train, y_train)\n",
        "\n",
        "    # Make predictions\n",
        "    y_pred = model.predict(X_test)\n",
        "\n",
        "    # Calculate accuracy\n",
        "    acc = accuracy_score(y_test, y_pred)\n",
        "    print(f\"\\n Accuracy of {name}: {acc:.4f}\")\n",
        "\n",
        "    # Print classification report\n",
        "    print(classification_report(y_test, y_pred, target_names=[\"Fake\", \"Real\"]))\n",
        "\n",
        "    # Store result\n",
        "    results.append((name, acc))\n",
        "\n",
        "    # Plot confusion matrix\n",
        "    cm = confusion_matrix(y_test, y_pred)\n",
        "    plt.figure(figsize=(5, 4))\n",
        "    sns.heatmap(cm, annot=True, fmt='d', cmap='Blues', xticklabels=[\"Fake\", \"Real\"], yticklabels=[\"Fake\", \"Real\"])\n",
        "    plt.title(f\"Confusion Matrix - {name}\")\n",
        "    plt.xlabel(\"Predicted\")\n",
        "    plt.ylabel(\"Actual\")\n",
        "    plt.show()"
      ],
      "metadata": {
        "trusted": true,
        "execution": {
          "iopub.status.busy": "2025-05-27T10:22:43.657941Z",
          "iopub.execute_input": "2025-05-27T10:22:43.658291Z",
          "iopub.status.idle": "2025-05-27T10:23:47.965944Z",
          "shell.execute_reply.started": "2025-05-27T10:22:43.658254Z",
          "shell.execute_reply": "2025-05-27T10:23:47.964844Z"
        },
        "id": "jB6Bi2pheZ1o"
      },
      "outputs": [],
      "execution_count": null
    },
    {
      "cell_type": "markdown",
      "source": [
        "## ROC Curve for Probabilistic Models"
      ],
      "metadata": {
        "id": "rnmyyttgeZ1p"
      }
    },
    {
      "cell_type": "code",
      "source": [
        "plt.figure(figsize=(10, 6))\n",
        "\n",
        "for name, model in models.items():\n",
        "    try:\n",
        "        if hasattr(model, \"predict_proba\"):\n",
        "            y_scores = model.predict_proba(X_test)[:, 1]\n",
        "        elif hasattr(model, \"decision_function\"):\n",
        "            y_scores = model.decision_function(X_test)\n",
        "        else:\n",
        "            continue\n",
        "\n",
        "        fpr, tpr, _ = roc_curve(y_test, y_scores)\n",
        "        auc_score = auc(fpr, tpr)\n",
        "        plt.plot(fpr, tpr, label=f\"{name} (AUC = {auc_score:.2f})\")\n",
        "    except:\n",
        "        continue"
      ],
      "metadata": {
        "trusted": true,
        "execution": {
          "iopub.status.busy": "2025-05-27T10:23:47.96693Z",
          "iopub.execute_input": "2025-05-27T10:23:47.967179Z",
          "iopub.status.idle": "2025-05-27T10:23:48.711452Z",
          "shell.execute_reply.started": "2025-05-27T10:23:47.967159Z",
          "shell.execute_reply": "2025-05-27T10:23:48.710447Z"
        },
        "id": "ilMCJhsyeZ1p"
      },
      "outputs": [],
      "execution_count": null
    },
    {
      "cell_type": "markdown",
      "source": [
        "### Baseline"
      ],
      "metadata": {
        "id": "4hyXcHYSeZ1p"
      }
    },
    {
      "cell_type": "code",
      "source": [
        "plt.plot([0, 1], [0, 1], linestyle='--', color='gray')\n",
        "plt.xlabel(\"False Positive Rate\")\n",
        "plt.ylabel(\"True Positive Rate\")\n",
        "plt.title(\"ROC Curves for ML Models\")\n",
        "plt.legend()\n",
        "plt.grid(True)\n",
        "plt.show()"
      ],
      "metadata": {
        "trusted": true,
        "execution": {
          "iopub.status.busy": "2025-05-27T10:23:48.712759Z",
          "iopub.execute_input": "2025-05-27T10:23:48.713106Z",
          "iopub.status.idle": "2025-05-27T10:23:48.904058Z",
          "shell.execute_reply.started": "2025-05-27T10:23:48.71308Z",
          "shell.execute_reply": "2025-05-27T10:23:48.902897Z"
        },
        "id": "V_P5D3mReZ1p"
      },
      "outputs": [],
      "execution_count": null
    },
    {
      "cell_type": "markdown",
      "source": [
        "## Accuracy Comparison Chart"
      ],
      "metadata": {
        "id": "8P3JHUC3eZ1p"
      }
    },
    {
      "cell_type": "markdown",
      "source": [
        "### Create dataframe for results"
      ],
      "metadata": {
        "id": "uP3VO-w1eZ1p"
      }
    },
    {
      "cell_type": "code",
      "source": [
        "results_df = pd.DataFrame(results, columns=[\"Model\", \"Accuracy\"])\n",
        "results_df = results_df.sort_values(by=\"Accuracy\", ascending=False)"
      ],
      "metadata": {
        "trusted": true,
        "execution": {
          "iopub.status.busy": "2025-05-27T10:23:48.905265Z",
          "iopub.execute_input": "2025-05-27T10:23:48.905642Z",
          "iopub.status.idle": "2025-05-27T10:23:48.912668Z",
          "shell.execute_reply.started": "2025-05-27T10:23:48.905619Z",
          "shell.execute_reply": "2025-05-27T10:23:48.911665Z"
        },
        "id": "0_wLziudeZ1q"
      },
      "outputs": [],
      "execution_count": null
    },
    {
      "cell_type": "markdown",
      "source": [
        "### Plot"
      ],
      "metadata": {
        "id": "IXniwQqAeZ1q"
      }
    },
    {
      "cell_type": "code",
      "source": [
        "plt.figure(figsize=(8, 5))\n",
        "sns.barplot(x=\"Accuracy\", y=\"Model\", data=results_df, palette=\"mako\")\n",
        "plt.title(\"Model Accuracy Comparison\")\n",
        "plt.xlim(0.8, 1.0)\n",
        "plt.xlabel(\"Accuracy\")\n",
        "plt.ylabel(\"Model\")\n",
        "plt.grid(True)\n",
        "plt.show()"
      ],
      "metadata": {
        "trusted": true,
        "execution": {
          "iopub.status.busy": "2025-05-27T10:23:48.913629Z",
          "iopub.execute_input": "2025-05-27T10:23:48.91392Z",
          "iopub.status.idle": "2025-05-27T10:23:49.101801Z",
          "shell.execute_reply.started": "2025-05-27T10:23:48.913898Z",
          "shell.execute_reply": "2025-05-27T10:23:49.100868Z"
        },
        "id": "ej4v6vOWeZ1q"
      },
      "outputs": [],
      "execution_count": null
    },
    {
      "cell_type": "markdown",
      "source": [
        "### Display results"
      ],
      "metadata": {
        "id": "Lg5n39k6eZ1q"
      }
    },
    {
      "cell_type": "code",
      "source": [
        "results_df"
      ],
      "metadata": {
        "trusted": true,
        "execution": {
          "iopub.status.busy": "2025-05-27T10:23:49.102748Z",
          "iopub.execute_input": "2025-05-27T10:23:49.10304Z",
          "iopub.status.idle": "2025-05-27T10:23:49.113463Z",
          "shell.execute_reply.started": "2025-05-27T10:23:49.103018Z",
          "shell.execute_reply": "2025-05-27T10:23:49.112385Z"
        },
        "id": "OmTooe6_eZ1q"
      },
      "outputs": [],
      "execution_count": null
    },
    {
      "cell_type": "markdown",
      "source": [
        "# Deep Learning Model with LSTM"
      ],
      "metadata": {
        "id": "avDYplo7eZ1q"
      }
    },
    {
      "cell_type": "markdown",
      "source": [
        "## Text Tokenization & Padding"
      ],
      "metadata": {
        "id": "pir8-0FmeZ1q"
      }
    },
    {
      "cell_type": "markdown",
      "source": [
        "### Parameters"
      ],
      "metadata": {
        "id": "n-VOHT3deZ1r"
      }
    },
    {
      "cell_type": "code",
      "source": [
        "MAX_VOCAB = 10000       # max number of words in the vocabulary\n",
        "MAX_LEN = 300           # max length of sequences (number of words per input)"
      ],
      "metadata": {
        "trusted": true,
        "execution": {
          "iopub.status.busy": "2025-05-27T10:23:49.114884Z",
          "iopub.execute_input": "2025-05-27T10:23:49.115173Z",
          "iopub.status.idle": "2025-05-27T10:23:49.132154Z",
          "shell.execute_reply.started": "2025-05-27T10:23:49.115152Z",
          "shell.execute_reply": "2025-05-27T10:23:49.13098Z"
        },
        "id": "cNGx1OYreZ1r"
      },
      "outputs": [],
      "execution_count": null
    },
    {
      "cell_type": "markdown",
      "source": [
        "### Tokenizer"
      ],
      "metadata": {
        "id": "rvMyM7QeeZ1r"
      }
    },
    {
      "cell_type": "code",
      "source": [
        "tokenizer = Tokenizer(num_words=MAX_VOCAB, oov_token=\"<OOV>\")\n",
        "tokenizer.fit_on_texts(df[\"clean_text\"])"
      ],
      "metadata": {
        "trusted": true,
        "execution": {
          "iopub.status.busy": "2025-05-27T10:23:49.133259Z",
          "iopub.execute_input": "2025-05-27T10:23:49.133589Z",
          "iopub.status.idle": "2025-05-27T10:23:57.859791Z",
          "shell.execute_reply.started": "2025-05-27T10:23:49.133558Z",
          "shell.execute_reply": "2025-05-27T10:23:57.858358Z"
        },
        "id": "AZPxGnITeZ1r"
      },
      "outputs": [],
      "execution_count": null
    },
    {
      "cell_type": "markdown",
      "source": [
        "### Convert text to sequences"
      ],
      "metadata": {
        "id": "pl1R03FPeZ1r"
      }
    },
    {
      "cell_type": "code",
      "source": [
        "sequences = tokenizer.texts_to_sequences(df[\"clean_text\"])"
      ],
      "metadata": {
        "trusted": true,
        "execution": {
          "iopub.status.busy": "2025-05-27T10:23:57.861087Z",
          "iopub.execute_input": "2025-05-27T10:23:57.861461Z",
          "iopub.status.idle": "2025-05-27T10:24:02.380312Z",
          "shell.execute_reply.started": "2025-05-27T10:23:57.861431Z",
          "shell.execute_reply": "2025-05-27T10:24:02.379351Z"
        },
        "id": "OonHDC58eZ1s"
      },
      "outputs": [],
      "execution_count": null
    },
    {
      "cell_type": "markdown",
      "source": [
        "### Pad sequences to fixed length"
      ],
      "metadata": {
        "id": "6VL7F9DJeZ1s"
      }
    },
    {
      "cell_type": "code",
      "source": [
        "padded_sequences = pad_sequences(sequences, maxlen=MAX_LEN, padding=\"post\", truncating=\"post\")"
      ],
      "metadata": {
        "trusted": true,
        "execution": {
          "iopub.status.busy": "2025-05-27T10:24:02.381245Z",
          "iopub.execute_input": "2025-05-27T10:24:02.381532Z",
          "iopub.status.idle": "2025-05-27T10:24:03.100362Z",
          "shell.execute_reply.started": "2025-05-27T10:24:02.381494Z",
          "shell.execute_reply": "2025-05-27T10:24:03.098931Z"
        },
        "id": "AK3DOol0eZ1s"
      },
      "outputs": [],
      "execution_count": null
    },
    {
      "cell_type": "markdown",
      "source": [
        "### Labels"
      ],
      "metadata": {
        "id": "kCHf_T2DeZ1s"
      }
    },
    {
      "cell_type": "code",
      "source": [
        "labels = df[\"label\"].values"
      ],
      "metadata": {
        "trusted": true,
        "execution": {
          "iopub.status.busy": "2025-05-27T10:24:03.101311Z",
          "iopub.execute_input": "2025-05-27T10:24:03.101617Z",
          "iopub.status.idle": "2025-05-27T10:24:03.108086Z",
          "shell.execute_reply.started": "2025-05-27T10:24:03.101583Z",
          "shell.execute_reply": "2025-05-27T10:24:03.106758Z"
        },
        "id": "xLS13PMveZ1s"
      },
      "outputs": [],
      "execution_count": null
    },
    {
      "cell_type": "markdown",
      "source": [
        "## Train-Test Split"
      ],
      "metadata": {
        "id": "ZPkO_DfteZ1s"
      }
    },
    {
      "cell_type": "markdown",
      "source": [
        "### Split the padded sequences and labels"
      ],
      "metadata": {
        "id": "F423TEGTeZ1s"
      }
    },
    {
      "cell_type": "code",
      "source": [
        "X_train_dl, X_test_dl, y_train_dl, y_test_dl = train_test_split(\n",
        "    padded_sequences, labels, test_size=0.2, random_state=537)"
      ],
      "metadata": {
        "trusted": true,
        "execution": {
          "iopub.status.busy": "2025-05-27T10:24:03.109394Z",
          "iopub.execute_input": "2025-05-27T10:24:03.109878Z",
          "iopub.status.idle": "2025-05-27T10:24:03.164Z",
          "shell.execute_reply.started": "2025-05-27T10:24:03.109838Z",
          "shell.execute_reply": "2025-05-27T10:24:03.162819Z"
        },
        "id": "VN81lYeAeZ1s"
      },
      "outputs": [],
      "execution_count": null
    },
    {
      "cell_type": "markdown",
      "source": [
        "## Define the LSTM Model"
      ],
      "metadata": {
        "id": "94nTfPB7eZ1t"
      }
    },
    {
      "cell_type": "markdown",
      "source": [
        "### Define the model"
      ],
      "metadata": {
        "id": "3_FcvG8PeZ1t"
      }
    },
    {
      "cell_type": "code",
      "source": [
        "model = Sequential([\n",
        "    Embedding(input_dim=MAX_VOCAB, output_dim=128, input_length=MAX_LEN),\n",
        "    LSTM(128, return_sequences=False),\n",
        "    Dropout(0.3),\n",
        "    Dense(64, activation='relu'),\n",
        "    Dropout(0.2),\n",
        "    Dense(1, activation='sigmoid')  # binary classification\n",
        "])"
      ],
      "metadata": {
        "trusted": true,
        "execution": {
          "iopub.status.busy": "2025-05-27T10:24:03.165057Z",
          "iopub.execute_input": "2025-05-27T10:24:03.165355Z",
          "iopub.status.idle": "2025-05-27T10:24:03.23467Z",
          "shell.execute_reply.started": "2025-05-27T10:24:03.165328Z",
          "shell.execute_reply": "2025-05-27T10:24:03.233628Z"
        },
        "id": "HPiSY9KieZ1t"
      },
      "outputs": [],
      "execution_count": null
    },
    {
      "cell_type": "markdown",
      "source": [
        "### Compile the model"
      ],
      "metadata": {
        "id": "sih-8ji4eZ1t"
      }
    },
    {
      "cell_type": "code",
      "source": [
        "model.compile(loss='binary_crossentropy', optimizer='adam', metrics=['accuracy'])"
      ],
      "metadata": {
        "trusted": true,
        "execution": {
          "iopub.status.busy": "2025-05-27T10:24:03.235933Z",
          "iopub.execute_input": "2025-05-27T10:24:03.236297Z",
          "iopub.status.idle": "2025-05-27T10:24:03.258896Z",
          "shell.execute_reply.started": "2025-05-27T10:24:03.236267Z",
          "shell.execute_reply": "2025-05-27T10:24:03.257197Z"
        },
        "id": "wOx9h8WZeZ1t"
      },
      "outputs": [],
      "execution_count": null
    },
    {
      "cell_type": "markdown",
      "source": [
        "### Model summary"
      ],
      "metadata": {
        "id": "khhE4fI6eZ1u"
      }
    },
    {
      "cell_type": "code",
      "source": [
        "model.summary()"
      ],
      "metadata": {
        "trusted": true,
        "execution": {
          "iopub.status.busy": "2025-05-27T10:24:03.259946Z",
          "iopub.execute_input": "2025-05-27T10:24:03.260201Z",
          "iopub.status.idle": "2025-05-27T10:24:03.281752Z",
          "shell.execute_reply.started": "2025-05-27T10:24:03.260181Z",
          "shell.execute_reply": "2025-05-27T10:24:03.280618Z"
        },
        "id": "Fy7Gaf73eZ1u"
      },
      "outputs": [],
      "execution_count": null
    },
    {
      "cell_type": "markdown",
      "source": [
        "## Train the Model"
      ],
      "metadata": {
        "id": "3-HobxyYeZ1u"
      }
    },
    {
      "cell_type": "code",
      "source": [
        "history = model.fit(\n",
        "    X_train_dl, y_train_dl,\n",
        "    validation_data=(X_test_dl, y_test_dl),\n",
        "    epochs=5,\n",
        "    batch_size=256,\n",
        "    verbose=1\n",
        ")"
      ],
      "metadata": {
        "trusted": true,
        "execution": {
          "iopub.status.busy": "2025-05-27T10:24:03.282948Z",
          "iopub.execute_input": "2025-05-27T10:24:03.283235Z",
          "iopub.status.idle": "2025-05-27T10:39:44.528972Z",
          "shell.execute_reply.started": "2025-05-27T10:24:03.283205Z",
          "shell.execute_reply": "2025-05-27T10:39:44.527259Z"
        },
        "id": "V56A7WTzeZ1u"
      },
      "outputs": [],
      "execution_count": null
    },
    {
      "cell_type": "markdown",
      "source": [
        "## Visualize Accuracy and Loss"
      ],
      "metadata": {
        "id": "BXzpy_3BeZ1u"
      }
    },
    {
      "cell_type": "markdown",
      "source": [
        "### Plot accuracy"
      ],
      "metadata": {
        "id": "CLG9VanUeZ1u"
      }
    },
    {
      "cell_type": "code",
      "source": [
        "plt.figure(figsize=(10, 4))\n",
        "plt.plot(history.history['accuracy'], label=\"Train Accuracy\")\n",
        "plt.plot(history.history['val_accuracy'], label=\"Validation Accuracy\")\n",
        "plt.title(\"LSTM Model Accuracy\")\n",
        "plt.xlabel(\"Epoch\")\n",
        "plt.ylabel(\"Accuracy\")\n",
        "plt.legend()\n",
        "plt.grid(True)\n",
        "plt.show()"
      ],
      "metadata": {
        "trusted": true,
        "execution": {
          "iopub.status.busy": "2025-05-27T10:39:44.531672Z",
          "iopub.execute_input": "2025-05-27T10:39:44.532036Z",
          "iopub.status.idle": "2025-05-27T10:39:44.799744Z",
          "shell.execute_reply.started": "2025-05-27T10:39:44.532007Z",
          "shell.execute_reply": "2025-05-27T10:39:44.79859Z"
        },
        "id": "wEMJTUsyeZ1v"
      },
      "outputs": [],
      "execution_count": null
    },
    {
      "cell_type": "markdown",
      "source": [
        "### Plot loss"
      ],
      "metadata": {
        "id": "FsxmcK9NeZ1v"
      }
    },
    {
      "cell_type": "code",
      "source": [
        "plt.figure(figsize=(10, 4))\n",
        "plt.plot(history.history['loss'], label=\"Train Loss\")\n",
        "plt.plot(history.history['val_loss'], label=\"Validation Loss\")\n",
        "plt.title(\"LSTM Model Loss\")\n",
        "plt.xlabel(\"Epoch\")\n",
        "plt.ylabel(\"Loss\")\n",
        "plt.legend()\n",
        "plt.grid(True)\n",
        "plt.show()"
      ],
      "metadata": {
        "trusted": true,
        "execution": {
          "iopub.status.busy": "2025-05-27T10:39:44.800999Z",
          "iopub.execute_input": "2025-05-27T10:39:44.801258Z",
          "iopub.status.idle": "2025-05-27T10:39:45.053341Z",
          "shell.execute_reply.started": "2025-05-27T10:39:44.801234Z",
          "shell.execute_reply": "2025-05-27T10:39:45.052267Z"
        },
        "id": "ol-ds55oeZ1v"
      },
      "outputs": [],
      "execution_count": null
    },
    {
      "cell_type": "markdown",
      "source": [
        "## Evaluate the Model on Test Data"
      ],
      "metadata": {
        "id": "_Xa5DAlLeZ1v"
      }
    },
    {
      "cell_type": "markdown",
      "source": [
        "### Evaluate performance"
      ],
      "metadata": {
        "id": "vs8nNeqHeZ1w"
      }
    },
    {
      "cell_type": "code",
      "source": [
        "loss, accuracy = model.evaluate(X_test_dl, y_test_dl)\n",
        "print(f\"\\nFinal Test Accuracy: {accuracy:.4f}\")"
      ],
      "metadata": {
        "trusted": true,
        "execution": {
          "iopub.status.busy": "2025-05-27T10:39:45.05468Z",
          "iopub.execute_input": "2025-05-27T10:39:45.054955Z",
          "iopub.status.idle": "2025-05-27T10:40:22.16278Z",
          "shell.execute_reply.started": "2025-05-27T10:39:45.054932Z",
          "shell.execute_reply": "2025-05-27T10:40:22.161744Z"
        },
        "id": "5DwD_DB-eZ1w"
      },
      "outputs": [],
      "execution_count": null
    },
    {
      "cell_type": "markdown",
      "source": [
        "# Predicting on New Inputs"
      ],
      "metadata": {
        "id": "OvfOXcVveZ1w"
      }
    },
    {
      "cell_type": "markdown",
      "source": [
        "## Prediction Function"
      ],
      "metadata": {
        "id": "Q_0UEpR6eZ1w"
      }
    },
    {
      "cell_type": "code",
      "source": [
        "def predict_news(text, model, tokenizer, max_len=300):\n",
        "\n",
        "    stop_words = set(stopwords.words(\"english\"))\n",
        "    lemmatizer = WordNetLemmatizer()\n",
        "\n",
        "    def clean_input(t):\n",
        "        t = t.lower()\n",
        "        t = t.translate(str.maketrans('', '', string.punctuation))\n",
        "        words = nltk.word_tokenize(t)\n",
        "        words = [lemmatizer.lemmatize(word) for word in words if word not in stop_words and word.isalpha()]\n",
        "        return \" \".join(words)\n",
        "\n",
        "    # Preprocess\n",
        "    cleaned = clean_input(text)\n",
        "    sequence = tokenizer.texts_to_sequences([cleaned])\n",
        "    padded = pad_sequences(sequence, maxlen=max_len, padding='post', truncating='post')\n",
        "\n",
        "    # Prediction\n",
        "    prob = model.predict(padded)[0][0]\n",
        "    label = \"REAL\" if prob > 0.5 else \"FAKE\"\n",
        "    confidence = prob if prob > 0.5 else 1 - prob\n",
        "\n",
        "    print(f\" Text: {text}\")\n",
        "    print(f\" Prediction: {label} ({confidence:.2f} confidence)\")"
      ],
      "metadata": {
        "trusted": true,
        "execution": {
          "iopub.status.busy": "2025-05-27T10:41:09.034986Z",
          "iopub.execute_input": "2025-05-27T10:41:09.035403Z",
          "iopub.status.idle": "2025-05-27T10:41:09.044231Z",
          "shell.execute_reply.started": "2025-05-27T10:41:09.035376Z",
          "shell.execute_reply": "2025-05-27T10:41:09.043086Z"
        },
        "id": "FT8qKUg8eZ1w"
      },
      "outputs": [],
      "execution_count": null
    },
    {
      "cell_type": "markdown",
      "source": [
        "## Example Predictions"
      ],
      "metadata": {
        "id": "WqC26ZDLeZ1w"
      }
    },
    {
      "cell_type": "code",
      "source": [
        "examples = [\n",
        "    \"The CDC approves a new vaccine that prevents aging by 40%.\",\n",
        "    \"NASA's James Webb Telescope captures image of the first galaxies.\",\n",
        "    \"Apple announces the iPhone 25 will be implanted into the brain.\",\n",
        "    \"UN releases a global climate report showing record-breaking heat levels in 2024.\",\n",
        "    \"Scientists confirm that drinking bleach can boost your immune system.\",\n",
        "    \"The World Bank predicts economic recovery in developing countries by 2026.\",\n",
        "]\n",
        "\n",
        "for i, example in enumerate(examples, 1):\n",
        "    print(f\"\\n Example {i}\")\n",
        "    predict_news(example, model, tokenizer)"
      ],
      "metadata": {
        "trusted": true,
        "execution": {
          "iopub.status.busy": "2025-05-27T10:41:11.80104Z",
          "iopub.execute_input": "2025-05-27T10:41:11.801365Z",
          "iopub.status.idle": "2025-05-27T10:41:12.852695Z",
          "shell.execute_reply.started": "2025-05-27T10:41:11.801341Z",
          "shell.execute_reply": "2025-05-27T10:41:12.851651Z"
        },
        "id": "iBX1UUMaeZ1w"
      },
      "outputs": [],
      "execution_count": null
    },
    {
      "cell_type": "markdown",
      "source": [
        "# Final Evaluation – ML vs DL Comparison"
      ],
      "metadata": {
        "id": "cFBtIu_seZ1w"
      }
    },
    {
      "cell_type": "markdown",
      "source": [
        "## Visual Comparison"
      ],
      "metadata": {
        "id": "QOoEGbaBeZ1x"
      }
    },
    {
      "cell_type": "markdown",
      "source": [
        "### Add DL model result"
      ],
      "metadata": {
        "id": "9G2jxPjreZ1x"
      }
    },
    {
      "cell_type": "code",
      "source": [
        "loss, lstm_accuracy = model.evaluate(X_test_dl, y_test_dl, verbose=0)\n",
        "print(f\"LSTM Model Accuracy: {lstm_accuracy:.4f}\")\n",
        "lstm_result = pd.DataFrame([{\"Model\": \"LSTM\", \"Accuracy\": lstm_accuracy}])\n",
        "results_df = pd.concat([results_df, lstm_result], ignore_index=True)"
      ],
      "metadata": {
        "trusted": true,
        "execution": {
          "iopub.status.busy": "2025-05-27T10:47:39.878049Z",
          "iopub.execute_input": "2025-05-27T10:47:39.87967Z",
          "iopub.status.idle": "2025-05-27T10:48:13.904474Z",
          "shell.execute_reply.started": "2025-05-27T10:47:39.879621Z",
          "shell.execute_reply": "2025-05-27T10:48:13.903493Z"
        },
        "id": "ZupJ6OhNeZ1x"
      },
      "outputs": [],
      "execution_count": null
    },
    {
      "cell_type": "markdown",
      "source": [
        "### Plot"
      ],
      "metadata": {
        "id": "NAuw-5lreZ1x"
      }
    },
    {
      "cell_type": "code",
      "source": [
        "plt.figure(figsize=(9, 5))\n",
        "sns.barplot(x=\"Accuracy\", y=\"Model\", data=results_df.sort_values(by=\"Accuracy\", ascending=False), palette=\"crest\")\n",
        "plt.title(\"Model Accuracy Comparison (ML vs DL)\")\n",
        "plt.xlim(0.5, 1.00)\n",
        "plt.grid(True)\n",
        "plt.show()"
      ],
      "metadata": {
        "trusted": true,
        "execution": {
          "iopub.status.busy": "2025-05-27T10:48:13.905808Z",
          "iopub.execute_input": "2025-05-27T10:48:13.906078Z",
          "iopub.status.idle": "2025-05-27T10:48:14.108889Z",
          "shell.execute_reply.started": "2025-05-27T10:48:13.906057Z",
          "shell.execute_reply": "2025-05-27T10:48:14.107909Z"
        },
        "id": "jSC59Xo9eZ1x"
      },
      "outputs": [],
      "execution_count": null
    },
    {
      "cell_type": "markdown",
      "source": [
        "---\n",
        "\n",
        "##  **Project Summary: Fake News Detection Using Optimized LSTM**\n",
        "\n",
        "---\n",
        "\n",
        "###  1. **Data Preparation**\n",
        "\n",
        "* Loaded two datasets: `True.csv` (real news) and `Fake.csv` (fake news).\n",
        "* Added a `label` column: `1` for real news, `0` for fake news.\n",
        "* Combined `title` and `text` into a single column: `content`.\n",
        "* Cleaned null values, shuffled the dataset, and kept only `content` and `label` columns for modeling.\n",
        "\n",
        "---\n",
        "\n",
        "###  2. **Text Cleaning and Exploratory Data Analysis (EDA)**\n",
        "\n",
        "* Converted text to lowercase, removed punctuation, stopwords, and applied lemmatization.\n",
        "* Generated WordClouds to visualize most common words in real vs fake news.\n",
        "* Compared article lengths with histograms to observe structural differences.\n",
        "\n",
        "---\n",
        "\n",
        "###  3. **Feature Extraction with TF-IDF**\n",
        "\n",
        "* Applied TF-IDF vectorization with:\n",
        "\n",
        "  * `max_features = 5000`\n",
        "  * `ngram_range = (1, 2)` for unigrams and bigrams.\n",
        "* Converted text into numerical format.\n",
        "* Split data into training (80%) and testing (20%).\n",
        "\n",
        "---\n",
        "\n",
        "###  4. **ML Models (Optional Comparison)**\n",
        "\n",
        "* Trained Logistic Regression, Naive Bayes, Random Forest, and SVM.\n",
        "* Evaluated with confusion matrices and ROC curves.\n",
        "* Though ML models performed well, the final classification relied on LSTM.\n",
        "\n",
        "---\n",
        "\n",
        "###  5. **Final LSTM Architecture **\n",
        "\n",
        "* LSTM handles the **sequential structure** of language better than traditional models.\n",
        "* Dropout layers help **prevent overfitting**.\n",
        "* Efficient architecture for both CPU and GPU environments.\n",
        "* Strikes a balance between **simplicity and performance**.\n",
        "\n",
        "---\n",
        "\n",
        "###  6. **Training and Evaluation**\n",
        "\n",
        "* Model trained for 5 epochs.\n",
        "* Accuracy and loss visualized for both training and validation sets.\n",
        "* Final accuracy retrieved using `model.evaluate()` (e.g., `LSTM Accuracy: 0.9732`)\n",
        "\n",
        "---\n",
        "\n",
        "###  7. **Prediction on Mixed News Samples**\n",
        "\n",
        "* Tested the model on 6 real-world inspired news headlines (some fake, some real).\n",
        "* The model confidently classified them with over 90% accuracy.\n",
        "* Each result included predicted class (REAL/FAKE) and confidence score.\n",
        "\n",
        "---\n",
        "\n",
        "# Thank you for taking the time to review my work. I would be very happy if you could upvote! 😊\n",
        "\n",
        "---"
      ],
      "metadata": {
        "id": "-hVv_DQheZ1y"
      }
    },
    {
      "cell_type": "code",
      "source": [],
      "metadata": {
        "trusted": true,
        "id": "4KQWH93NeZ1y"
      },
      "outputs": [],
      "execution_count": null
    }
  ]
}