{
  "metadata": {
    "kernelspec": {
      "language": "python",
      "display_name": "Python 3",
      "name": "python3"
    },
    "language_info": {
      "name": "python",
      "version": "3.11.11",
      "mimetype": "text/x-python",
      "codemirror_mode": {
        "name": "ipython",
        "version": 3
      },
      "pygments_lexer": "ipython3",
      "nbconvert_exporter": "python",
      "file_extension": ".py"
    },
    "kaggle": {
      "accelerator": "none",
      "dataSources": [
        {
          "sourceId": 11891195,
          "sourceType": "datasetVersion",
          "datasetId": 7474089
        }
      ],
      "dockerImageVersionId": 31040,
      "isInternetEnabled": true,
      "language": "python",
      "sourceType": "notebook",
      "isGpuEnabled": false
    },
    "colab": {
      "name": "Predicting Human Personality",
      "provenance": []
    }
  },
  "nbformat_minor": 0,
  "nbformat": 4,
  "cells": [
    {
      "source": [
        "# IMPORTANT: RUN THIS CELL IN ORDER TO IMPORT YOUR KAGGLE DATA SOURCES,\n",
        "# THEN FEEL FREE TO DELETE THIS CELL.\n",
        "# NOTE: THIS NOTEBOOK ENVIRONMENT DIFFERS FROM KAGGLE'S PYTHON\n",
        "# ENVIRONMENT SO THERE MAY BE MISSING LIBRARIES USED BY YOUR\n",
        "# NOTEBOOK.\n",
        "import kagglehub\n",
        "rakeshkapilavai_extrovert_vs_introvert_behavior_data_path = kagglehub.dataset_download('rakeshkapilavai/extrovert-vs-introvert-behavior-data')\n",
        "\n",
        "print('Data source import complete.')\n"
      ],
      "metadata": {
        "id": "D8clWxxSfbGY"
      },
      "cell_type": "code",
      "outputs": [],
      "execution_count": null
    },
    {
      "cell_type": "markdown",
      "source": [
        "# Personality Classification Notebook\n",
        "\n",
        "## Table of Contents\n",
        "1. Introduction\n",
        "2. Exploratory Data Analysis\n",
        "3. Data Preprocessing\n",
        "4. Feature Engineering\n",
        "5. Model Training and Evaluation\n",
        "6. Feature Importance and Interpretability\n",
        "7. Conclusion"
      ],
      "metadata": {
        "id": "Nl34Dlz_fbGa"
      }
    },
    {
      "cell_type": "markdown",
      "source": [
        "## Introduction\n",
        "This notebook classifies individuals as Introverts or Extroverts based on social behavior features from the personality dataset. We use advanced preprocessing, feature engineering, and a stacking ensemble with Random Forest, Gradient Boosting, XGBoost, and SVM, optimized with extensive hyperparameter tuning. The goal is to achieve high performance on the competition metric (e.g., F1-score or AUC) and create a polished notebook for Kaggle community engagement to secure a silver medal."
      ],
      "metadata": {
        "id": "xxiMAAC4fbGb"
      }
    },
    {
      "cell_type": "code",
      "source": [
        "## Setup\n",
        "import pandas as pd\n",
        "import numpy as np\n",
        "import matplotlib.pyplot as plt\n",
        "import seaborn as sns\n",
        "from sklearn.model_selection import train_test_split, RandomizedSearchCV, StratifiedKFold, cross_val_score\n",
        "from sklearn.preprocessing import LabelEncoder, StandardScaler, PolynomialFeatures\n",
        "from sklearn.impute import SimpleImputer\n",
        "from sklearn.ensemble import RandomForestClassifier, GradientBoostingClassifier, StackingClassifier\n",
        "from sklearn.linear_model import LogisticRegression\n",
        "from sklearn.svm import SVC\n",
        "from sklearn.neighbors import KNeighborsClassifier\n",
        "from sklearn.tree import DecisionTreeClassifier\n",
        "from xgboost import XGBClassifier\n",
        "!pip install scikit-learn==1.2.2 imbalanced-learn==0.10.1 --quiet\n",
        "from imblearn.over_sampling import SMOTE\n",
        "from sklearn.metrics import classification_report, confusion_matrix, roc_curve, roc_auc_score, f1_score\n",
        "import os\n",
        "import shap\n",
        "import joblib\n",
        "import warnings\n",
        "warnings.filterwarnings('ignore')\n",
        "%matplotlib inline"
      ],
      "metadata": {
        "trusted": true,
        "execution": {
          "iopub.status.busy": "2025-05-22T04:59:25.461629Z",
          "iopub.execute_input": "2025-05-22T04:59:25.461872Z",
          "iopub.status.idle": "2025-05-22T04:59:28.199005Z",
          "shell.execute_reply.started": "2025-05-22T04:59:25.461855Z",
          "shell.execute_reply": "2025-05-22T04:59:28.19784Z"
        },
        "id": "FmAXDD55fbGb"
      },
      "outputs": [],
      "execution_count": null
    },
    {
      "cell_type": "code",
      "source": [
        "# Set random seed\n",
        "np.random.seed(42)"
      ],
      "metadata": {
        "trusted": true,
        "execution": {
          "iopub.status.busy": "2025-05-22T04:19:47.804206Z",
          "iopub.execute_input": "2025-05-22T04:19:47.804483Z",
          "iopub.status.idle": "2025-05-22T04:19:47.829354Z",
          "shell.execute_reply.started": "2025-05-22T04:19:47.804464Z",
          "shell.execute_reply": "2025-05-22T04:19:47.828277Z"
        },
        "id": "um7T42lgfbGc"
      },
      "outputs": [],
      "execution_count": null
    },
    {
      "cell_type": "markdown",
      "source": [
        "## Exploratory Data Analysis\n",
        "We explore the dataset to understand feature distributions, class balance, and correlations, which guide preprocessing and modeling."
      ],
      "metadata": {
        "id": "LI6MaZl0fbGc"
      }
    },
    {
      "cell_type": "code",
      "source": [
        "# Load dataset\n",
        "data_path = '/kaggle/input/extrovert-vs-introvert-behavior-data/personality_dataset.csv'\n",
        "if not os.path.exists(data_path):\n",
        "    raise FileNotFoundError(f\"Dataset not found at {data_path}. Please check the file path.\")\n",
        "data = pd.read_csv(data_path)"
      ],
      "metadata": {
        "trusted": true,
        "execution": {
          "iopub.status.busy": "2025-05-22T04:19:47.830171Z",
          "iopub.execute_input": "2025-05-22T04:19:47.830434Z",
          "iopub.status.idle": "2025-05-22T04:19:47.867762Z",
          "shell.execute_reply.started": "2025-05-22T04:19:47.830416Z",
          "shell.execute_reply": "2025-05-22T04:19:47.866621Z"
        },
        "id": "3rPlSL1UfbGd"
      },
      "outputs": [],
      "execution_count": null
    },
    {
      "cell_type": "code",
      "source": [
        "# Display basic information\n",
        "print(\"Dataset Shape:\", data.shape)\n",
        "print(\"\\nDataset Info:\")\n",
        "print(data.info())\n",
        "print(\"\\nMissing Values:\")\n",
        "print(data.isnull().sum())\n",
        "\n",
        "# Define numeric and categorical columns\n",
        "numeric_columns = ['Time_spent_Alone', 'Social_event_attendance', 'Going_outside', 'Friends_circle_size', 'Post_frequency']\n",
        "categorical_columns = ['Stage_fear', 'Drained_after_socializing']\n",
        "target_column = 'Personality'\n",
        "\n",
        "# Verify categorical values\n",
        "for col in categorical_columns:\n",
        "    print(f\"\\nUnique values in {col}:\")\n",
        "    print(data[col].value_counts(dropna=False))"
      ],
      "metadata": {
        "trusted": true,
        "execution": {
          "iopub.status.busy": "2025-05-22T04:19:47.869827Z",
          "iopub.execute_input": "2025-05-22T04:19:47.870141Z",
          "iopub.status.idle": "2025-05-22T04:19:47.90683Z",
          "shell.execute_reply.started": "2025-05-22T04:19:47.870116Z",
          "shell.execute_reply": "2025-05-22T04:19:47.905713Z"
        },
        "id": "17pXAzebfbGd"
      },
      "outputs": [],
      "execution_count": null
    },
    {
      "cell_type": "code",
      "source": [
        "# Class distribution\n",
        "plt.figure(figsize=(8, 6))\n",
        "sns.countplot(x=target_column, data=data)\n",
        "plt.title('Class Distribution of Personality Types')\n",
        "plt.xlabel('Personality')\n",
        "plt.ylabel('Count')\n",
        "plt.savefig('/kaggle/working/class_distribution.png')\n",
        "plt.show()"
      ],
      "metadata": {
        "trusted": true,
        "execution": {
          "iopub.status.busy": "2025-05-22T04:19:47.907679Z",
          "iopub.execute_input": "2025-05-22T04:19:47.907951Z",
          "iopub.status.idle": "2025-05-22T04:19:48.189488Z",
          "shell.execute_reply.started": "2025-05-22T04:19:47.907925Z",
          "shell.execute_reply": "2025-05-22T04:19:48.188332Z"
        },
        "id": "bsee4cU8fbGd"
      },
      "outputs": [],
      "execution_count": null
    },
    {
      "cell_type": "code",
      "source": [
        "# Numeric feature distributions by class\n",
        "plt.figure(figsize=(8, 6))\n",
        "for i, col in enumerate(numeric_columns, 1):\n",
        "    plt.subplot(3, 2, i)\n",
        "    sns.boxplot(x=target_column, y=col, data=data)\n",
        "    plt.title(f'{col} by Personality')\n",
        "plt.tight_layout()\n",
        "plt.savefig('/kaggle/working/box_plots.png')\n",
        "plt.show()"
      ],
      "metadata": {
        "trusted": true,
        "execution": {
          "iopub.status.busy": "2025-05-22T04:19:48.190453Z",
          "iopub.execute_input": "2025-05-22T04:19:48.190665Z",
          "iopub.status.idle": "2025-05-22T04:19:48.880019Z",
          "shell.execute_reply.started": "2025-05-22T04:19:48.190649Z",
          "shell.execute_reply": "2025-05-22T04:19:48.879099Z"
        },
        "id": "5XgJ-veRfbGd"
      },
      "outputs": [],
      "execution_count": null
    },
    {
      "cell_type": "code",
      "source": [
        "# Pair plot for key features\n",
        "sns.pairplot(data[numeric_columns + [target_column]], hue=target_column, diag_kind='hist')\n",
        "plt.suptitle('Pair Plot of Numeric Features by Personality', y=1.02)\n",
        "plt.savefig('/kaggle/working/pair_plot.png')\n",
        "plt.show()"
      ],
      "metadata": {
        "trusted": true,
        "execution": {
          "iopub.status.busy": "2025-05-22T04:20:38.249059Z",
          "iopub.execute_input": "2025-05-22T04:20:38.249354Z",
          "iopub.status.idle": "2025-05-22T04:20:48.575216Z",
          "shell.execute_reply.started": "2025-05-22T04:20:38.249338Z",
          "shell.execute_reply": "2025-05-22T04:20:48.574312Z"
        },
        "id": "sjkzmwtIfbGe"
      },
      "outputs": [],
      "execution_count": null
    },
    {
      "cell_type": "code",
      "source": [
        "# Correlation heatmap\n",
        "plt.figure(figsize=(10, 8))\n",
        "sns.heatmap(data[numeric_columns].corr(), annot=True, cmap='coolwarm', fmt='.2f', vmin=-1, vmax=1)\n",
        "plt.title('Correlation Heatmap of Numeric Features')\n",
        "plt.savefig('/kaggle/working/correlation_heatmap.png')\n",
        "plt.show()"
      ],
      "metadata": {
        "trusted": true,
        "execution": {
          "iopub.status.busy": "2025-05-22T04:19:59.09623Z",
          "iopub.execute_input": "2025-05-22T04:19:59.096505Z",
          "iopub.status.idle": "2025-05-22T04:19:59.438662Z",
          "shell.execute_reply.started": "2025-05-22T04:19:59.096487Z",
          "shell.execute_reply": "2025-05-22T04:19:59.437561Z"
        },
        "id": "fD2rCfaNfbGe"
      },
      "outputs": [],
      "execution_count": null
    },
    {
      "cell_type": "markdown",
      "source": [
        "## Data Preprocessing\n",
        "We handle missing values, encode categorical features, cap outliers, and apply SMOTE and scaling to prepare the data for modeling."
      ],
      "metadata": {
        "id": "klZB16qsfbGe"
      }
    },
    {
      "cell_type": "code",
      "source": [
        "# Encode target variable\n",
        "le = LabelEncoder()\n",
        "data[target_column] = le.fit_transform(data[target_column])\n",
        "print(f\"Encoded classes: {dict(zip(le.classes_, le.transform(le.classes_)))}\")\n",
        "\n",
        "# Handle missing values\n",
        "# Numeric features: impute with median\n",
        "numeric_imputer = SimpleImputer(strategy='median')\n",
        "data[numeric_columns] = numeric_imputer.fit_transform(data[numeric_columns])\n",
        "\n",
        "# Categorical features: impute with mode\n",
        "categorical_imputer = SimpleImputer(strategy='most_frequent')\n",
        "data[categorical_columns] = categorical_imputer.fit_transform(data[categorical_columns])\n",
        "\n",
        "# Encode categorical features\n",
        "data = pd.get_dummies(data, columns=categorical_columns, drop_first=True)\n",
        "\n",
        "# Update feature list\n",
        "encoded_columns = [col for col in data.columns if col != target_column]\n",
        "\n",
        "# Cap outliers instead of removing\n",
        "for col in numeric_columns:\n",
        "    Q1 = data[col].quantile(0.25)\n",
        "    Q3 = data[col].quantile(0.75)\n",
        "    IQR = Q3 - Q1\n",
        "    lower_bound = Q1 - 1.5 * IQR\n",
        "    upper_bound = Q3 + 1.5 * IQR\n",
        "    data[col] = data[col].clip(lower=lower_bound, upper=upper_bound)"
      ],
      "metadata": {
        "trusted": true,
        "execution": {
          "iopub.status.busy": "2025-05-22T04:19:59.439786Z",
          "iopub.execute_input": "2025-05-22T04:19:59.4402Z",
          "iopub.status.idle": "2025-05-22T04:19:59.471469Z",
          "shell.execute_reply.started": "2025-05-22T04:19:59.440177Z",
          "shell.execute_reply": "2025-05-22T04:19:59.470502Z"
        },
        "id": "vJuuvqdJfbGe"
      },
      "outputs": [],
      "execution_count": null
    },
    {
      "cell_type": "code",
      "source": [
        "# Train-test split\n",
        "X = data.drop(columns=[target_column])\n",
        "y = data[target_column]\n",
        "X_train, X_test, y_train, y_test = train_test_split(X, y, test_size=0.2, stratify=y, random_state=42)"
      ],
      "metadata": {
        "trusted": true,
        "execution": {
          "iopub.status.busy": "2025-05-22T04:19:59.473406Z",
          "iopub.execute_input": "2025-05-22T04:19:59.47364Z",
          "iopub.status.idle": "2025-05-22T04:19:59.485778Z",
          "shell.execute_reply.started": "2025-05-22T04:19:59.473621Z",
          "shell.execute_reply": "2025-05-22T04:19:59.484575Z"
        },
        "id": "CZMUzgCdfbGf"
      },
      "outputs": [],
      "execution_count": null
    },
    {
      "cell_type": "code",
      "source": [
        "# Handle class imbalance with SMOTE\n",
        "smote = SMOTE(random_state=42)\n",
        "X_train, y_train = smote.fit_resample(X_train, y_train)\n",
        "\n",
        "# Scale features\n",
        "scaler = StandardScaler()\n",
        "X_train_scaled = scaler.fit_transform(X_train)\n",
        "X_test_scaled = scaler.transform(X_test)"
      ],
      "metadata": {
        "trusted": true,
        "execution": {
          "iopub.status.busy": "2025-05-22T04:19:59.486643Z",
          "iopub.execute_input": "2025-05-22T04:19:59.486901Z",
          "iopub.status.idle": "2025-05-22T04:19:59.530925Z",
          "shell.execute_reply.started": "2025-05-22T04:19:59.486879Z",
          "shell.execute_reply": "2025-05-22T04:19:59.529551Z"
        },
        "id": "Kpt1-ZL4fbGf"
      },
      "outputs": [],
      "execution_count": null
    },
    {
      "cell_type": "markdown",
      "source": [
        "## Feature Engineering\n",
        "We create interaction features, polynomial features, and binned features to capture complex relationships."
      ],
      "metadata": {
        "id": "AlaaN9vHfbGf"
      }
    },
    {
      "cell_type": "code",
      "source": [
        "# Interaction features\n",
        "X_train = pd.DataFrame(X_train, columns=X.columns)\n",
        "X_test = pd.DataFrame(X_test, columns=X.columns)\n",
        "X_train['Alone_to_Social_Ratio'] = X_train['Time_spent_Alone'] / (X_train['Social_event_attendance'] + 1)\n",
        "X_test['Alone_to_Social_Ratio'] = X_test['Time_spent_Alone'] / (X_test['Social_event_attendance'] + 1)\n",
        "X_train['Social_Comfort_Index'] = (X_train['Friends_circle_size'] + X_train['Post_frequency'] - X_train['Stage_fear_Yes']) / 3\n",
        "X_test['Social_Comfort_Index'] = (X_test['Friends_circle_size'] + X_test['Post_frequency'] - X_test['Stage_fear_Yes']) / 3\n",
        "X_train['Social_Overload'] = X_train['Drained_after_socializing_Yes'] * X_train['Social_event_attendance']\n",
        "X_test['Social_Overload'] = X_test['Drained_after_socializing_Yes'] * X_test['Social_event_attendance']\n",
        "\n",
        "# Binned features\n",
        "X_train['Time_spent_Alone_Binned'] = pd.qcut(X_train['Time_spent_Alone'], q=3, labels=['Low', 'Medium', 'High'])\n",
        "X_test['Time_spent_Alone_Binned'] = pd.qcut(X_test['Time_spent_Alone'], q=3, labels=['Low', 'Medium', 'High'])\n",
        "X_train = pd.get_dummies(X_train, columns=['Time_spent_Alone_Binned'], drop_first=True)\n",
        "X_test = pd.get_dummies(X_test, columns=['Time_spent_Alone_Binned'], drop_first=True)\n",
        "\n",
        "# Polynomial features\n",
        "poly = PolynomialFeatures(degree=2, include_bias=False, interaction_only=True)\n",
        "poly_features_train = poly.fit_transform(X_train[['Time_spent_Alone', 'Social_event_attendance', 'Friends_circle_size']])\n",
        "poly_features_test = poly.transform(X_test[['Time_spent_Alone', 'Social_event_attendance', 'Friends_circle_size']])\n",
        "poly_feature_names = poly.get_feature_names_out(['Time_spent_Alone', 'Social_event_attendance', 'Friends_circle_size'])\n",
        "X_train[poly_feature_names] = poly_features_train\n",
        "X_test[poly_feature_names] = poly_features_test\n",
        "\n",
        "# Update scaled features\n",
        "scaler = StandardScaler()\n",
        "X_train_scaled = scaler.fit_transform(X_train)\n",
        "X_test_scaled = scaler.transform(X_test)\n"
      ],
      "metadata": {
        "trusted": true,
        "execution": {
          "iopub.status.busy": "2025-05-22T04:21:45.85155Z",
          "iopub.execute_input": "2025-05-22T04:21:45.851833Z",
          "iopub.status.idle": "2025-05-22T04:21:45.887572Z",
          "shell.execute_reply.started": "2025-05-22T04:21:45.851814Z",
          "shell.execute_reply": "2025-05-22T04:21:45.886592Z"
        },
        "id": "BVS_Y3aJfbGf"
      },
      "outputs": [],
      "execution_count": null
    },
    {
      "cell_type": "markdown",
      "source": [
        "## Model Training and Evaluation\n",
        "We train multiple models with hyperparameter tuning and use a stacking ensemble for final predictions."
      ],
      "metadata": {
        "id": "fYRE3oQzfbGg"
      }
    },
    {
      "cell_type": "code",
      "source": [
        "# Define models with expanded hyperparameter grids\n",
        "models = {\n",
        "    'logistic': {\n",
        "        'model': LogisticRegression(max_iter=1000),\n",
        "        'use_scaled': True,\n",
        "        'params': {'C': np.logspace(-4, 4, 20), 'solver': ['lbfgs', 'liblinear']}\n",
        "    },\n",
        "    'svm': {\n",
        "        'model': SVC(probability=True),\n",
        "        'use_scaled': True,\n",
        "        'params': {'C': np.logspace(-3, 3, 20), 'kernel': ['rbf', 'linear'], 'gamma': ['scale', 'auto', 0.1, 1]}\n",
        "    },\n",
        "    'rf': {\n",
        "        'model': RandomForestClassifier(random_state=42),\n",
        "        'use_scaled': False,\n",
        "        'params': {'n_estimators': [100, 150], 'max_depth': [None, 10], 'min_samples_split': [2, 5]}\n",
        "    },\n",
        "    'gb': {\n",
        "        'model': GradientBoostingClassifier(random_state=42),\n",
        "        'use_scaled': False,\n",
        "        'params': {'n_estimators': [100, 200, 300], 'learning_rate': [0.01, 0.1, 0.2], 'max_depth': [3, 5, 7]}\n",
        "    },\n",
        "    'knn': {\n",
        "        'model': KNeighborsClassifier(),\n",
        "        'use_scaled': True,\n",
        "        'params': {'n_neighbors': [3, 5, 7, 9], 'weights': ['uniform', 'distance']}\n",
        "    },\n",
        "    'dt': {\n",
        "        'model': DecisionTreeClassifier(random_state=42),\n",
        "        'use_scaled': False,\n",
        "        'params': {'max_depth': [None, 5, 10, 15], 'min_samples_split': [2, 5, 10]}\n",
        "    },\n",
        "    'xgb': {\n",
        "        'model': XGBClassifier(random_state=42, eval_metric='logloss'),\n",
        "        'use_scaled': False,\n",
        "        'params': {'n_estimators': [100, 150], 'learning_rate': [0.05, 0.1], 'max_depth': [3, 5], 'subsample': [0.8]}\n",
        "    }\n",
        "}"
      ],
      "metadata": {
        "trusted": true,
        "execution": {
          "iopub.status.busy": "2025-05-22T04:23:11.250704Z",
          "iopub.execute_input": "2025-05-22T04:23:11.251233Z",
          "iopub.status.idle": "2025-05-22T04:23:11.259089Z",
          "shell.execute_reply.started": "2025-05-22T04:23:11.251211Z",
          "shell.execute_reply": "2025-05-22T04:23:11.258027Z"
        },
        "id": "rQ8m4mUkfbGg"
      },
      "outputs": [],
      "execution_count": null
    },
    {
      "cell_type": "code",
      "source": [
        "# Hyperparameter tuning\n",
        "results = []\n",
        "for model_name, mp in models.items():\n",
        "    clf = RandomizedSearchCV(mp['model'], mp['params'], n_iter=20, cv=3, scoring='f1_weighted', n_jobs=-1, random_state=42)\n",
        "    X_train_current = X_train_scaled if mp['use_scaled'] else X_train\n",
        "    clf.fit(X_train_current, y_train)\n",
        "    results.append({\n",
        "        'model': model_name,\n",
        "        'best_score': clf.best_score_,\n",
        "        'best_params': clf.best_params_\n",
        "    })"
      ],
      "metadata": {
        "trusted": true,
        "execution": {
          "iopub.status.busy": "2025-05-22T04:25:27.141925Z",
          "iopub.execute_input": "2025-05-22T04:25:27.14219Z",
          "iopub.status.idle": "2025-05-22T04:34:19.909826Z",
          "shell.execute_reply.started": "2025-05-22T04:25:27.142175Z",
          "shell.execute_reply": "2025-05-22T04:34:19.909326Z"
        },
        "id": "wX830ldFfbGg"
      },
      "outputs": [],
      "execution_count": null
    },
    {
      "cell_type": "code",
      "source": [
        "# Display model performance\n",
        "df_results = pd.DataFrame(results)\n",
        "print(\"\\nModel Performance (Cross-Validation F1-Weighted Scores):\")\n",
        "print(df_results)"
      ],
      "metadata": {
        "trusted": true,
        "execution": {
          "iopub.status.busy": "2025-05-22T04:34:45.683902Z",
          "iopub.execute_input": "2025-05-22T04:34:45.684198Z",
          "iopub.status.idle": "2025-05-22T04:34:45.699287Z",
          "shell.execute_reply.started": "2025-05-22T04:34:45.68418Z",
          "shell.execute_reply": "2025-05-22T04:34:45.698327Z"
        },
        "id": "V3itLa5hfbGg"
      },
      "outputs": [],
      "execution_count": null
    },
    {
      "cell_type": "code",
      "source": [
        "# Stacking ensemble\n",
        "estimators = [\n",
        "    ('rf', RandomForestClassifier(**df_results.loc[df_results['model'] == 'rf']['best_params'].iloc[0], random_state=42)),\n",
        "    ('gb', GradientBoostingClassifier(**df_results.loc[df_results['model'] == 'gb']['best_params'].iloc[0], random_state=42)),\n",
        "    ('xgb', XGBClassifier(**df_results.loc[df_results['model'] == 'xgb']['best_params'].iloc[0], random_state=42, eval_metric='logloss')),\n",
        "    ('svm', SVC(**df_results.loc[df_results['model'] == 'svm']['best_params'].iloc[0], probability=True))\n",
        "]\n",
        "stacking_model = StackingClassifier(estimators=estimators, final_estimator=LogisticRegression(max_iter=1000), n_jobs=-1)\n",
        "stacking_model.fit(X_train_scaled, y_train)\n",
        "\n",
        "# Cross-validation for stacking model\n",
        "stacking_scores = cross_val_score(stacking_model, X_train_scaled, y_train, cv=3, scoring='f1_weighted', n_jobs=-1)\n",
        "print(f\"\\nStacking Model Cross-Validation F1-Weighted Score: {stacking_scores.mean():.3f} ± {stacking_scores.std():.3f}\")"
      ],
      "metadata": {
        "trusted": true,
        "execution": {
          "iopub.status.busy": "2025-05-22T04:37:22.608296Z",
          "iopub.execute_input": "2025-05-22T04:37:22.608567Z",
          "iopub.status.idle": "2025-05-22T04:37:30.736924Z",
          "shell.execute_reply.started": "2025-05-22T04:37:22.608551Z",
          "shell.execute_reply": "2025-05-22T04:37:30.736186Z"
        },
        "id": "zj-KYeJefbGg"
      },
      "outputs": [],
      "execution_count": null
    },
    {
      "cell_type": "code",
      "source": [
        "# Evaluate on test set\n",
        "y_pred = stacking_model.predict(X_test_scaled)\n",
        "print(\"\\nStacking Model Classification Report:\")\n",
        "print(classification_report(y_test, y_pred, target_names=le.classes_))"
      ],
      "metadata": {
        "trusted": true,
        "execution": {
          "iopub.status.busy": "2025-05-22T04:37:51.007094Z",
          "iopub.execute_input": "2025-05-22T04:37:51.007422Z",
          "iopub.status.idle": "2025-05-22T04:37:51.05211Z",
          "shell.execute_reply.started": "2025-05-22T04:37:51.007402Z",
          "shell.execute_reply": "2025-05-22T04:37:51.051408Z"
        },
        "id": "zGAnheXOfbGh"
      },
      "outputs": [],
      "execution_count": null
    },
    {
      "cell_type": "code",
      "source": [
        "# Confusion matrix\n",
        "plt.figure(figsize=(8, 6))\n",
        "sns.heatmap(confusion_matrix(y_test, y_pred), annot=True, fmt='d', cmap='Blues')\n",
        "plt.title('Confusion Matrix for Stacking Ensemble')\n",
        "plt.xlabel('Predicted')\n",
        "plt.ylabel('True')\n",
        "plt.savefig('/kaggle/working/confusion_matrix.png')\n",
        "plt.show()"
      ],
      "metadata": {
        "trusted": true,
        "execution": {
          "iopub.status.busy": "2025-05-22T04:38:03.151846Z",
          "iopub.execute_input": "2025-05-22T04:38:03.152141Z",
          "iopub.status.idle": "2025-05-22T04:38:03.369097Z",
          "shell.execute_reply.started": "2025-05-22T04:38:03.152123Z",
          "shell.execute_reply": "2025-05-22T04:38:03.368378Z"
        },
        "id": "NRfsv1tUfbGh"
      },
      "outputs": [],
      "execution_count": null
    },
    {
      "cell_type": "code",
      "source": [
        "# ROC Curve\n",
        "fpr, tpr, _ = roc_curve(y_test, stacking_model.predict_proba(X_test_scaled)[:, 1])\n",
        "roc_auc = roc_auc_score(y_test, stacking_model.predict_proba(X_test_scaled)[:, 1])\n",
        "plt.figure(figsize=(8, 6))\n",
        "plt.plot(fpr, tpr, label=f'ROC Curve (AUC = {roc_auc:.2f})')\n",
        "plt.plot([0, 1], [0, 1], 'k--')\n",
        "plt.xlabel('False Positive Rate')\n",
        "plt.ylabel('True Positive Rate')\n",
        "plt.title('ROC Curve for Stacking Ensemble')\n",
        "plt.legend()\n",
        "plt.savefig('/kaggle/working/roc_curve.png')\n",
        "plt.show()"
      ],
      "metadata": {
        "trusted": true,
        "execution": {
          "iopub.status.busy": "2025-05-22T04:38:18.059195Z",
          "iopub.execute_input": "2025-05-22T04:38:18.059507Z",
          "iopub.status.idle": "2025-05-22T04:38:18.341591Z",
          "shell.execute_reply.started": "2025-05-22T04:38:18.05949Z",
          "shell.execute_reply": "2025-05-22T04:38:18.340535Z"
        },
        "id": "zBNGeUAofbGh"
      },
      "outputs": [],
      "execution_count": null
    },
    {
      "cell_type": "markdown",
      "source": [
        "## Feature Importance and Interpretability\n",
        "We analyze feature importance using Random Forest and SHAP to understand model predictions."
      ],
      "metadata": {
        "id": "VZbYFeDwfbGh"
      }
    },
    {
      "cell_type": "code",
      "source": [
        "# Random Forest feature importance\n",
        "rf_model = RandomForestClassifier(**df_results.loc[df_results['model'] == 'rf']['best_params'].iloc[0], random_state=42)\n",
        "rf_model.fit(X_train, y_train)\n",
        "feature_importance = pd.DataFrame({\n",
        "    'Feature': X_train.columns,\n",
        "    'Importance': rf_model.feature_importances_\n",
        "}).sort_values(by='Importance', ascending=False)\n",
        "feature_importance.to_csv('/kaggle/working/feature_importance.csv', index=False)\n",
        "print(\"\\nFeature Importance (Random Forest):\")\n",
        "print(feature_importance)\n",
        "\n",
        "# Feature importance bar plot\n",
        "plt.figure(figsize=(10, 6))\n",
        "sns.barplot(x='Importance', y='Feature', data=feature_importance)\n",
        "plt.title('Random Forest Feature Importance')\n",
        "plt.savefig('/kaggle/working/feature_importance_plot.png')\n",
        "plt.show()"
      ],
      "metadata": {
        "trusted": true,
        "execution": {
          "iopub.status.busy": "2025-05-22T04:40:36.506925Z",
          "iopub.execute_input": "2025-05-22T04:40:36.507202Z",
          "iopub.status.idle": "2025-05-22T04:40:37.106456Z",
          "shell.execute_reply.started": "2025-05-22T04:40:36.507183Z",
          "shell.execute_reply": "2025-05-22T04:40:37.104905Z"
        },
        "id": "BQGaCSXUfbGi"
      },
      "outputs": [],
      "execution_count": null
    },
    {
      "cell_type": "code",
      "source": [
        "# SHAP values (using a sample for efficiency)\n",
        "X_test_sample = X_test.sample(frac=0.1, random_state=42)\n",
        "explainer = shap.TreeExplainer(rf_model)\n",
        "shap_values = explainer.shap_values(X_test_sample)\n",
        "plt.figure(figsize=(10, 6))\n",
        "shap.summary_plot(shap_values, X_test_sample, feature_names=X_test.columns, show=False)\n",
        "plt.title('SHAP Feature Importance for Random Forest')\n",
        "plt.savefig('/kaggle/working/shap_summary.png')\n",
        "plt.show()\n",
        "\n",
        "# SHAP summary for both classes\n",
        "plt.figure(figsize=(10, 6))\n",
        "shap.summary_plot(shap_values[1], X_test_sample, feature_names=X_test.columns, show=False)\n",
        "plt.title('SHAP Values for Extrovert Class')\n",
        "plt.savefig('/kaggle/working/shap_extrovert.png')\n",
        "plt.show()"
      ],
      "metadata": {
        "trusted": true,
        "execution": {
          "iopub.status.busy": "2025-05-22T04:40:30.665145Z",
          "iopub.execute_input": "2025-05-22T04:40:30.665637Z",
          "iopub.status.idle": "2025-05-22T04:40:31.857221Z",
          "shell.execute_reply.started": "2025-05-22T04:40:30.665616Z",
          "shell.execute_reply": "2025-05-22T04:40:31.856151Z"
        },
        "id": "xl7Z6gilfbGi"
      },
      "outputs": [],
      "execution_count": null
    },
    {
      "cell_type": "markdown",
      "source": [
        "## Conclusion\n",
        "This notebook demonstrates a robust approach to personality classification using advanced preprocessing, feature engineering, and a stacking ensemble with Random Forest, Gradient Boosting, XGBoost, and SVM. Key features like `Time_spent_Alone` and `Friends_circle_size` were highly influential, as shown by feature importance and SHAP analyses. The stacking model achieved a cross-validation F1-weighted score of approximately {stacking_scores.mean():.3f}, indicating strong performance. For competition submissions, compare the test set performance to the leaderboard. For community engagement, this notebook includes comprehensive visualizations and explanations to attract upvotes."
      ],
      "metadata": {
        "id": "3XJXzPdVfbGi"
      }
    },
    {
      "cell_type": "code",
      "source": [
        "# Save model and predictions\n",
        "joblib.dump(stacking_model, '/kaggle/working/stacking_model.pkl')\n",
        "pd.DataFrame({'Actual': le.inverse_transform(y_test), 'Predicted': le.inverse_transform(y_pred)}).to_csv('/kaggle/working/predictions.csv', index=False)"
      ],
      "metadata": {
        "trusted": true,
        "execution": {
          "iopub.status.busy": "2025-05-22T04:41:56.562514Z",
          "iopub.execute_input": "2025-05-22T04:41:56.562774Z",
          "iopub.status.idle": "2025-05-22T04:41:56.628892Z",
          "shell.execute_reply.started": "2025-05-22T04:41:56.562758Z",
          "shell.execute_reply": "2025-05-22T04:41:56.62808Z"
        },
        "id": "shnhQgSJfbGi"
      },
      "outputs": [],
      "execution_count": null
    },
    {
      "cell_type": "markdown",
      "source": [
        "# Please upvote the notebook if you like it.\n",
        "![](https://image.petmd.com/files/styles/863x625/public/CANS_dogsmiling_379727605.jpg)"
      ],
      "metadata": {
        "id": "6pu7QaDmfbGi"
      }
    }
  ]
}